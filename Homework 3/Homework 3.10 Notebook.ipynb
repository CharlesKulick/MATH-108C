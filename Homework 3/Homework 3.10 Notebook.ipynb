{
 "cells": [
  {
   "cell_type": "markdown",
   "metadata": {},
   "source": [
    "# **Welcome! In this notebook, we'll solve Homework 3.10 together in Python.**\n",
    "\n",
    "For this problem, we only need to import numpy. Let's start there."
   ]
  },
  {
   "cell_type": "code",
   "execution_count": 1,
   "metadata": {},
   "outputs": [],
   "source": [
    "import numpy as np"
   ]
  },
  {
   "cell_type": "markdown",
   "metadata": {},
   "source": [
    "Now let's create an arbitrary $20 \\times 30$ matrix. So that we can easily keep track of what numbers go where, let's fill it with the numbers $0$ to $599$ in order."
   ]
  },
  {
   "cell_type": "code",
   "execution_count": null,
   "metadata": {},
   "outputs": [],
   "source": [
    "#np.arange(600) returns a giant array of numbers 0 to 599.\n",
    "#Then, reshape(20,30) turns the array into a 20 by 30 matrix.\n",
    "A = np.arange(600).reshape(20,30)"
   ]
  },
  {
   "cell_type": "markdown",
   "metadata": {},
   "source": [
    "Let's look at this matrix and verify everything is correct."
   ]
  },
  {
   "cell_type": "code",
   "execution_count": null,
   "metadata": {},
   "outputs": [],
   "source": [
    "A"
   ]
  },
  {
   "cell_type": "markdown",
   "metadata": {},
   "source": [
    "Perhaps a bit cluttered and sloppy, but it looks just as we intended!\n",
    "\n",
    "Now, numpy provides a great way to access submatrices.\n",
    "\n",
    "We simply call:    `A[begin row (inclusive): end row (exclusive), begin column (inc): end column (exc)]`\n",
    "\n",
    "This notation is not standard in base Python, but is consistent in numpy and worth getting comfortable with! This means part a of our homework can be executed in one line."
   ]
  },
  {
   "cell_type": "code",
   "execution_count": null,
   "metadata": {},
   "outputs": [],
   "source": [
    "A[14:20,4:10]"
   ]
  },
  {
   "cell_type": "markdown",
   "metadata": {},
   "source": [
    "We had to call these particular indices as our problem probably wanted a strictly inclusive range, while the second number of these ranges is exlusive. Also, we need to account for zero-based indexing, which is typically not assumed when given a problem description. If this is unclear, try comparing with the full matrix above and counting out rows and columns to find a manual solution! You'll see why these answers match pretty quickly."
   ]
  },
  {
   "cell_type": "markdown",
   "metadata": {},
   "source": [
    "Now let's make a matrix $B$ to insert into $A$ for part b.\n",
    "\n",
    "We'll stick to making the entries sequential for clarity."
   ]
  },
  {
   "cell_type": "code",
   "execution_count": null,
   "metadata": {},
   "outputs": [],
   "source": [
    "#With code similar to that for A:\n",
    "B = np.arange(50).reshape(5,10)\n",
    "B"
   ]
  },
  {
   "cell_type": "markdown",
   "metadata": {},
   "source": [
    "Now, we use our knowledge of referencing submatrices of $A$ to very easily swap in our target matrix $B$!"
   ]
  },
  {
   "cell_type": "code",
   "execution_count": null,
   "metadata": {},
   "outputs": [],
   "source": [
    "#Reference the desired submatrix of A and set equal to B.\n",
    "A[9:14,19:29] = B\n",
    "A"
   ]
  },
  {
   "cell_type": "markdown",
   "metadata": {},
   "source": [
    "It's a bit of a mess, but we can see where the low numbers of $B$ have been placed in $A$, and they're exactly where we want them!"
   ]
  },
  {
   "cell_type": "markdown",
   "metadata": {},
   "source": [
    "For part c, we need to create a $50 \\times 50$ matrix of the form $\\begin{bmatrix}\n",
    "A & 0\\\\\n",
    "0 & A^T\n",
    "\\end{bmatrix}$.\n",
    "\n",
    "We first create a zero matrix as a base. Our idea is to then insert a copy of $A$ and $A^T$ into our zero matrix at the right places, as we did above!"
   ]
  },
  {
   "cell_type": "code",
   "execution_count": null,
   "metadata": {},
   "outputs": [],
   "source": [
    "#Making a 50 x 50 zero matrix\n",
    "B = np.zeros((50,50))\n",
    "B"
   ]
  },
  {
   "cell_type": "markdown",
   "metadata": {},
   "source": [
    "One more time, we make a matrix $A$ with sequential entries of the right size."
   ]
  },
  {
   "cell_type": "code",
   "execution_count": null,
   "metadata": {},
   "outputs": [],
   "source": [
    "A = np.arange(625).reshape(25,25)\n",
    "A"
   ]
  },
  {
   "cell_type": "markdown",
   "metadata": {},
   "source": [
    "This is what we wish to insert into $C$. So, let's do it!"
   ]
  },
  {
   "cell_type": "code",
   "execution_count": null,
   "metadata": {},
   "outputs": [],
   "source": [
    "#Set the top corner to A\n",
    "B[0:25,0:25] = A\n",
    "\n",
    "#Set the bottom corner to transpose(A)\n",
    "B[25:50,25:50] = np.transpose(A)\n",
    "\n",
    "#Examine our result\n",
    "B"
   ]
  },
  {
   "cell_type": "markdown",
   "metadata": {},
   "source": [
    "The output is truncated due to how large a $50 \\times 50$ matrix would be, but we can tell from this compact output that everything is as it should be! We're done with this problem!\n",
    "\n",
    "***\n",
    "\n",
    "Thanks for reading this week's first problem, and feel free to email me with any questions!\n",
    "\n",
    "-Charles"
   ]
  }
 ],
 "metadata": {
  "kernelspec": {
   "display_name": "Python 3",
   "language": "python",
   "name": "python3"
  },
  "language_info": {
   "codemirror_mode": {
    "name": "ipython",
    "version": 3
   },
   "file_extension": ".py",
   "mimetype": "text/x-python",
   "name": "python",
   "nbconvert_exporter": "python",
   "pygments_lexer": "ipython3",
   "version": "3.7.4"
  }
 },
 "nbformat": 4,
 "nbformat_minor": 2
}
