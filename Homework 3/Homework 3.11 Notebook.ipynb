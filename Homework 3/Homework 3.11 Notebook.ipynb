{
 "cells": [
  {
   "cell_type": "markdown",
   "metadata": {},
   "source": [
    "# **Welcome! In this notebook, we'll solve Homework 3.11 together in Python.**\n",
    "\n",
    "This is another problem where we only import numpy, so let's start with that!"
   ]
  },
  {
   "cell_type": "code",
   "execution_count": 1,
   "metadata": {},
   "outputs": [],
   "source": [
    "import numpy as np"
   ]
  },
  {
   "cell_type": "markdown",
   "metadata": {},
   "source": [
    "In this problem, we can only instantiate matrices with size below $32 \\times 32$.\n",
    "\n",
    "In order to work with $50 \\times 50$ matrices as we require, let's choose to think of a $50 \\times 50$ matrix $A$ as split into four $25 \\times 25$ matrices:\n",
    "\n",
    "$A = \\begin{bmatrix}\n",
    "A_1 & A_2\\\\\n",
    "A_3 & A_4\n",
    "\\end{bmatrix}$\n",
    "\n",
    "To start calculating, let's create two random $50 \\times 50$ matrices $A$ and $B$ by describing their four smaller component matrices, which we can safely hold in memory. We'll fill these matrices with random integers between $0$ and $9$."
   ]
  },
  {
   "cell_type": "code",
   "execution_count": 2,
   "metadata": {},
   "outputs": [],
   "source": [
    "#Make a list to hold our randomly generated matrices.\n",
    "smallerMatrices = []\n",
    "\n",
    "#Generate!\n",
    "for _ in range(8):\n",
    "    smallerMatrices.append(np.random.randint(0,10,(25,25)))"
   ]
  },
  {
   "cell_type": "markdown",
   "metadata": {},
   "source": [
    "Let's take a look at one of these and make sure it looks good."
   ]
  },
  {
   "cell_type": "code",
   "execution_count": 3,
   "metadata": {},
   "outputs": [
    {
     "data": {
      "text/plain": [
       "array([[7, 6, 8, 1, 4, 0, 7, 5, 3, 8, 6, 1, 8, 7, 7, 6, 1, 2, 7, 5, 1, 4,\n",
       "        6, 8, 4],\n",
       "       [5, 1, 8, 4, 5, 1, 1, 7, 6, 6, 5, 8, 9, 9, 8, 2, 3, 6, 1, 4, 3, 8,\n",
       "        5, 6, 1],\n",
       "       [0, 6, 2, 6, 0, 7, 3, 8, 8, 2, 6, 8, 4, 0, 7, 2, 4, 5, 5, 5, 3, 9,\n",
       "        9, 4, 0],\n",
       "       [1, 4, 6, 0, 8, 8, 1, 4, 7, 5, 1, 7, 1, 7, 5, 6, 0, 8, 7, 5, 5, 6,\n",
       "        1, 4, 5],\n",
       "       [1, 6, 8, 9, 7, 4, 5, 3, 9, 7, 2, 4, 9, 3, 1, 5, 0, 3, 5, 1, 7, 6,\n",
       "        2, 5, 8],\n",
       "       [2, 3, 4, 0, 6, 9, 3, 5, 5, 8, 8, 2, 3, 5, 9, 4, 0, 0, 1, 4, 0, 4,\n",
       "        9, 6, 4],\n",
       "       [8, 5, 2, 4, 1, 8, 4, 8, 4, 6, 6, 4, 7, 7, 7, 9, 3, 8, 4, 6, 9, 6,\n",
       "        2, 5, 0],\n",
       "       [0, 4, 0, 6, 3, 0, 1, 5, 1, 6, 8, 3, 0, 2, 7, 5, 5, 7, 2, 1, 6, 6,\n",
       "        0, 1, 5],\n",
       "       [1, 0, 2, 5, 1, 0, 1, 0, 4, 7, 7, 8, 4, 1, 1, 0, 4, 9, 2, 7, 3, 2,\n",
       "        5, 6, 9],\n",
       "       [4, 9, 7, 1, 5, 5, 6, 5, 0, 7, 3, 6, 4, 2, 2, 4, 0, 1, 2, 6, 5, 0,\n",
       "        0, 8, 5],\n",
       "       [9, 5, 1, 5, 7, 9, 5, 2, 9, 7, 9, 3, 3, 4, 4, 4, 4, 8, 4, 5, 7, 8,\n",
       "        2, 8, 3],\n",
       "       [4, 7, 2, 8, 2, 2, 2, 2, 8, 1, 7, 7, 1, 3, 3, 2, 6, 0, 0, 4, 3, 2,\n",
       "        6, 5, 3],\n",
       "       [3, 1, 4, 9, 9, 6, 1, 1, 6, 4, 8, 4, 6, 7, 7, 1, 0, 3, 0, 8, 9, 5,\n",
       "        5, 5, 9],\n",
       "       [0, 7, 9, 6, 3, 8, 0, 3, 4, 3, 1, 7, 5, 4, 1, 1, 6, 4, 3, 2, 8, 6,\n",
       "        2, 5, 6],\n",
       "       [8, 1, 6, 7, 4, 7, 9, 6, 6, 3, 3, 2, 3, 1, 8, 6, 8, 8, 1, 1, 2, 5,\n",
       "        5, 3, 7],\n",
       "       [0, 6, 1, 8, 2, 3, 3, 2, 6, 5, 1, 2, 3, 2, 8, 1, 4, 1, 6, 3, 6, 1,\n",
       "        7, 7, 3],\n",
       "       [4, 8, 1, 2, 0, 7, 7, 9, 6, 3, 8, 0, 1, 4, 8, 8, 2, 6, 5, 0, 2, 5,\n",
       "        8, 0, 6],\n",
       "       [4, 8, 2, 9, 0, 7, 3, 2, 8, 8, 6, 2, 4, 5, 2, 5, 4, 7, 7, 7, 2, 0,\n",
       "        6, 2, 9],\n",
       "       [9, 8, 3, 2, 7, 5, 5, 5, 2, 8, 5, 0, 0, 7, 4, 0, 6, 2, 7, 5, 9, 4,\n",
       "        2, 5, 4],\n",
       "       [5, 8, 9, 1, 4, 5, 9, 0, 7, 9, 6, 0, 9, 7, 8, 2, 5, 5, 5, 7, 8, 4,\n",
       "        1, 9, 8],\n",
       "       [7, 1, 1, 1, 5, 8, 8, 0, 5, 1, 3, 5, 9, 0, 9, 8, 9, 1, 9, 9, 5, 9,\n",
       "        0, 2, 4],\n",
       "       [9, 2, 1, 9, 7, 2, 3, 8, 4, 9, 4, 8, 1, 2, 5, 5, 6, 9, 0, 4, 7, 1,\n",
       "        3, 4, 4],\n",
       "       [8, 6, 7, 2, 4, 0, 2, 8, 7, 3, 4, 6, 6, 2, 6, 5, 1, 3, 8, 6, 0, 9,\n",
       "        9, 4, 0],\n",
       "       [9, 6, 3, 9, 0, 9, 5, 9, 1, 0, 2, 8, 6, 0, 0, 9, 1, 4, 8, 8, 9, 8,\n",
       "        2, 9, 4],\n",
       "       [1, 6, 4, 0, 5, 0, 1, 4, 6, 5, 4, 8, 3, 5, 0, 3, 2, 3, 7, 0, 4, 0,\n",
       "        6, 2, 1]])"
      ]
     },
     "execution_count": 3,
     "metadata": {},
     "output_type": "execute_result"
    }
   ],
   "source": [
    "smallerMatrices[0]"
   ]
  },
  {
   "cell_type": "markdown",
   "metadata": {},
   "source": [
    "Great! Let's next assign these common names for convenience as we go forward."
   ]
  },
  {
   "cell_type": "code",
   "execution_count": 4,
   "metadata": {},
   "outputs": [],
   "source": [
    "#Making better notation for ourselves!\n",
    "A_1 = smallerMatrices[0]\n",
    "A_2 = smallerMatrices[1]\n",
    "A_3 = smallerMatrices[2]\n",
    "A_4 = smallerMatrices[3]\n",
    "B_1 = smallerMatrices[4]\n",
    "B_2 = smallerMatrices[5]\n",
    "B_3 = smallerMatrices[6]\n",
    "B_4 = smallerMatrices[7]"
   ]
  },
  {
   "cell_type": "markdown",
   "metadata": {},
   "source": [
    "As these matrices are small, we can do normal operations with them safely. Let's start with $A + B$, which we can easily find by directly adding each of the quadrants of $A$ to the corresponding quadrant of $B$."
   ]
  },
  {
   "cell_type": "code",
   "execution_count": 5,
   "metadata": {},
   "outputs": [],
   "source": [
    "AplusB_1 = A_1 + B_1\n",
    "AplusB_2 = A_2 + B_2\n",
    "AplusB_3 = A_3 + B_3\n",
    "AplusB_4 = A_4 + B_4"
   ]
  },
  {
   "cell_type": "markdown",
   "metadata": {},
   "source": [
    "Once again, let's peek and be sure this returned what we expect."
   ]
  },
  {
   "cell_type": "code",
   "execution_count": 6,
   "metadata": {},
   "outputs": [
    {
     "data": {
      "text/plain": [
       "array([[12, 14, 14,  4, 12,  5, 16, 10,  4, 12, 15,  9, 12, 11,  9, 15,\n",
       "         9,  4, 12,  7,  6, 13,  6, 14, 10],\n",
       "       [12,  6, 13, 11,  8,  6, 10, 14, 15, 12,  7, 13, 12, 18, 17,  7,\n",
       "         7,  6,  9, 13,  6, 17, 14, 15,  4],\n",
       "       [ 9,  6,  4,  7,  0, 15, 10, 10, 10,  2, 13,  8, 12,  0,  8, 11,\n",
       "         7,  5,  7,  8,  3, 15, 18,  6,  2],\n",
       "       [ 4,  7, 14,  9, 13, 15,  4,  5, 16,  7,  6, 15,  1, 12, 10, 14,\n",
       "         4, 10, 15,  6,  9,  6,  2, 11, 14],\n",
       "       [ 6, 12, 11, 10, 15,  8, 11,  9,  9, 12,  2,  7, 15, 11,  6, 10,\n",
       "         7,  5, 14,  1,  7,  8, 10,  7,  9],\n",
       "       [ 4,  4,  8,  8, 10, 13,  5,  8,  9, 14, 12,  7,  9, 11, 10, 13,\n",
       "         7,  2,  4, 13,  6, 11,  9, 14, 12],\n",
       "       [ 8,  6, 11, 13,  7, 10,  4, 13,  4, 13,  9, 12, 10, 14, 13,  9,\n",
       "        10, 13,  7, 11, 16, 12,  4,  6,  3],\n",
       "       [ 2,  4,  2, 14,  5,  6,  7, 11,  6,  8, 12,  9,  9,  9,  7, 11,\n",
       "         5, 10,  6,  2, 12, 13,  4,  3,  9],\n",
       "       [ 4,  2,  6,  8,  5,  8, 10,  6,  5, 11, 11, 10,  9,  3,  8,  5,\n",
       "         8, 16, 10, 14,  9,  7,  5, 13, 18],\n",
       "       [ 7, 12, 10,  2,  5, 11,  7,  8,  6, 13, 12,  7, 11, 10,  6,  6,\n",
       "         7,  6,  6, 15,  7,  3,  9, 10,  9],\n",
       "       [14,  7,  2, 13, 11, 17, 10,  6,  9, 10, 10,  9,  7,  6,  6,  8,\n",
       "         4, 10, 13,  9,  7, 11,  9, 10, 12],\n",
       "       [ 4,  7, 11, 12,  4,  2,  5,  7, 15,  3,  9, 11,  2, 10,  9,  3,\n",
       "        14,  0,  4,  4, 12,  5, 14, 10, 12],\n",
       "       [ 7,  4,  6, 16, 12, 12,  9,  7,  8, 13,  9,  7, 11, 16, 15,  1,\n",
       "         7,  7,  8,  9, 15,  7,  9,  7,  9],\n",
       "       [ 7,  7,  9,  8,  4,  8,  3, 10,  5, 12,  6,  8,  6,  5,  6,  1,\n",
       "        14,  9,  3,  9, 17,  6,  4, 10, 10],\n",
       "       [17,  7, 15,  8, 12,  7, 10, 15, 12,  4, 11,  5,  6,  9, 16, 14,\n",
       "        10, 15,  4,  1, 10,  8,  5,  7, 13],\n",
       "       [ 7,  8, 10,  8,  5, 11, 11,  6,  9,  9,  3, 10,  3,  4, 16,  7,\n",
       "        12,  4,  6, 10, 14,  4,  9, 13,  8],\n",
       "       [ 9,  8,  8, 11,  3,  9, 11,  9, 14,  7, 14,  3,  5, 10, 16, 17,\n",
       "         3,  6, 14,  5, 11,  7, 13,  0, 15],\n",
       "       [ 9, 16, 11, 15,  3, 15,  6,  9, 11, 11,  9,  6,  7, 12,  8, 12,\n",
       "         8, 10, 11,  7, 10,  9,  8, 10, 15],\n",
       "       [12, 11,  4,  5, 12,  7, 14,  9,  8,  9, 13,  9,  7,  8, 10,  9,\n",
       "        15,  2,  9,  8, 10,  4,  3, 12,  7],\n",
       "       [ 7,  8, 10,  9,  7,  7, 18,  2, 12, 10,  9,  9, 11, 11, 10, 10,\n",
       "         9, 14,  7, 13, 11,  4,  1, 10, 12],\n",
       "       [13,  9,  8,  1, 11, 12, 11,  4,  5,  3, 10, 13, 10,  4, 17, 13,\n",
       "        11,  4, 17, 12, 12, 10,  5,  2,  9],\n",
       "       [17,  5,  6, 17,  7,  4,  3,  8,  5, 11,  6, 11,  1,  8, 12,  7,\n",
       "        11, 14,  6,  6, 14,  6, 12, 12,  8],\n",
       "       [12, 14, 16,  3, 13,  9, 11, 14,  8,  8,  9,  6, 11, 11,  8,  8,\n",
       "         5, 12, 14, 11,  8, 11, 15,  6,  3],\n",
       "       [12, 13,  3, 14,  8, 12, 13, 17,  5,  3,  6, 17,  8,  8,  8, 18,\n",
       "         9, 12,  8, 14, 11,  8,  5, 16,  6],\n",
       "       [ 2, 10, 11,  7,  5,  6,  9, 10, 10, 11,  6, 16,  6, 12,  5, 10,\n",
       "         6,  5,  7,  5, 12,  0,  8,  9,  3]])"
      ]
     },
     "execution_count": 6,
     "metadata": {},
     "output_type": "execute_result"
    }
   ],
   "source": [
    "AplusB_1"
   ]
  },
  {
   "cell_type": "markdown",
   "metadata": {},
   "source": [
    "Great! We did it. If we wanted to do further computations, we now have the four quadrants of $A + B$ fully descirbed and in memory, and could easily move forward in our analysis.\n",
    "\n",
    "***\n",
    "\n",
    "Next we compute $AB$.\n",
    "\n",
    "Let's write these matrices in their block form and compute this smaller multiplication operation.\n",
    "\n",
    "$AB = \\begin{bmatrix}\n",
    "A_1 & A_2\\\\\n",
    "A_3 & A_4\n",
    "\\end{bmatrix} \\begin{bmatrix}\n",
    "B_1 & B_2\\\\\n",
    "B_3 & B_4\n",
    "\\end{bmatrix} = \\begin{bmatrix}\n",
    "A_1B_1 + A_2B_3 & A_1B_2 + A_2B_4\\\\\n",
    "A_3B_1 + A_4B_3 & A_3B_2 + A_4B_4\n",
    "\\end{bmatrix}$\n",
    "\n",
    "All of these operations involve $25 \\times 25$ matrices and so are safe to compute under our constraints!\n",
    "\n",
    "Let's now compute each quadrant in our code."
   ]
  },
  {
   "cell_type": "code",
   "execution_count": 7,
   "metadata": {},
   "outputs": [],
   "source": [
    "#Computation using numpy methods to multiply matrices.\n",
    "C_1 = np.matmul(A_1,B_1) + np.matmul(A_2,B_3)\n",
    "C_2 = np.matmul(A_1,B_2) + np.matmul(A_2,B_4)\n",
    "C_3 = np.matmul(A_3,B_1) + np.matmul(A_4,B_3)\n",
    "C_4 = np.matmul(A_3,B_2) + np.matmul(A_4,B_4)"
   ]
  },
  {
   "cell_type": "markdown",
   "metadata": {},
   "source": [
    "This may seem unintuitive at first - I recommend following the process of normal matrix multiplication and seeing row by row why this formula works! If you're unsure this is correct, we can luckily double check this answer against standard multiplication using a full $50 \\times 50$ matrix."
   ]
  },
  {
   "cell_type": "code",
   "execution_count": 8,
   "metadata": {},
   "outputs": [],
   "source": [
    "#Making a 50 x 50 zero matrix\n",
    "A = np.zeros((50,50))\n",
    "B = np.zeros((50,50))\n",
    "\n",
    "#Inserting each quadrant for both matrices\n",
    "A[0:25,0:25] = A_1\n",
    "A[0:25,25:] = A_2\n",
    "A[25:,0:25] = A_3\n",
    "A[25:,25:] = A_4\n",
    "\n",
    "B[0:25,0:25] = B_1\n",
    "B[0:25,25:] = B_2\n",
    "B[25:,0:25] = B_3\n",
    "B[25:,25:] = B_4"
   ]
  },
  {
   "cell_type": "code",
   "execution_count": 9,
   "metadata": {},
   "outputs": [],
   "source": [
    "#Multiply our two matrices\n",
    "C = np.matmul(A, B)"
   ]
  },
  {
   "cell_type": "code",
   "execution_count": 10,
   "metadata": {},
   "outputs": [
    {
     "data": {
      "text/plain": [
       "[True, True, True, True]"
      ]
     },
     "execution_count": 10,
     "metadata": {},
     "output_type": "execute_result"
    }
   ],
   "source": [
    "#Check each quadrant for equivalence of every element\n",
    "[(C[0:25,0:25] == C_1).all(), (C[0:25,25:] == C_2).all(), (C[25:,0:25] == C_3).all(), (C[25:,25:] == C_4).all()]"
   ]
  },
  {
   "cell_type": "markdown",
   "metadata": {},
   "source": [
    "So we've manually confirmed our formula works, and all four quadrants are the same! Wonderful!\n",
    "\n",
    "***\n",
    "\n",
    "Now, for the final problem, we have a complicated matrix setup. We first need to generate random and invertible $20 \\times 20$ and $30 \\times 30$ matrices. To do this, we will use $LU$ factorization - we will create a random $L$ and $U$ matrix for each!"
   ]
  },
  {
   "cell_type": "code",
   "execution_count": 11,
   "metadata": {},
   "outputs": [],
   "source": [
    "#Fill a matrix with random entries.\n",
    "randomMatrix = np.random.rand(20, 20)\n",
    "\n",
    "#Use the lower and upper triangular parts of this matrix - filling in 0's elsewhere\n",
    "L = np.tril(randomMatrix)\n",
    "U = np.triu(randomMatrix)\n",
    "\n",
    "#Our random 20 x 20 block is the product\n",
    "A_11 = np.matmul(L,U)"
   ]
  },
  {
   "cell_type": "markdown",
   "metadata": {},
   "source": [
    "We'll do the same for the $30 \\times 30$ matrix."
   ]
  },
  {
   "cell_type": "code",
   "execution_count": 12,
   "metadata": {},
   "outputs": [],
   "source": [
    "randomMatrix = np.random.rand(30, 30)\n",
    "\n",
    "#Our random 30 x 30 block is the product\n",
    "A_22 = np.matmul(np.tril(randomMatrix),np.triu(randomMatrix))"
   ]
  },
  {
   "cell_type": "markdown",
   "metadata": {},
   "source": [
    "We have no guarantees on $A_{21}$, so we make it a purely random $30 \\times 20$ matrix, the exact size we need to fill."
   ]
  },
  {
   "cell_type": "code",
   "execution_count": 13,
   "metadata": {},
   "outputs": [],
   "source": [
    "A_21 = np.random.rand(30, 20)"
   ]
  },
  {
   "cell_type": "markdown",
   "metadata": {},
   "source": [
    "Finally, we make our zero block."
   ]
  },
  {
   "cell_type": "code",
   "execution_count": 14,
   "metadata": {},
   "outputs": [],
   "source": [
    "A_12 = np.zeros((20,30))"
   ]
  },
  {
   "cell_type": "markdown",
   "metadata": {},
   "source": [
    "One more chore - describe a $50 \\times 1$ matrix $b$. For our problem and our constraints, we'll describe it in two parts, as a $20 \\times 1$ top of $b$ and a $30 \\times 1$ bottom of $b$."
   ]
  },
  {
   "cell_type": "code",
   "execution_count": 15,
   "metadata": {},
   "outputs": [],
   "source": [
    "topB = np.random.rand(20, 1)\n",
    "botB = np.random.rand(30, 1)"
   ]
  },
  {
   "cell_type": "markdown",
   "metadata": {},
   "source": [
    "Now, our goal is to break the system $Ax = b$ into parts, where $A = \\begin{bmatrix}\n",
    "A_{11} & 0\\\\\n",
    "A_{21} & A_{22}\n",
    "\\end{bmatrix}$.\n",
    "\n",
    "First, we can solve for the first $20$ entries of $x$ by only focusing on the $A_{11}$ block, as the adjacent block is all zeros."
   ]
  },
  {
   "cell_type": "code",
   "execution_count": 16,
   "metadata": {},
   "outputs": [
    {
     "data": {
      "text/plain": [
       "array([[-2605.74755515],\n",
       "       [ 5928.66664913],\n",
       "       [-7865.85662392],\n",
       "       [-4297.02959056],\n",
       "       [10686.07172773],\n",
       "       [ -509.13439408],\n",
       "       [ 1043.55591974],\n",
       "       [ 1585.90478323],\n",
       "       [-3932.0894406 ],\n",
       "       [ 1315.11738677],\n",
       "       [-1716.40990988],\n",
       "       [  609.01216525],\n",
       "       [ -225.25217583],\n",
       "       [ -458.19925226],\n",
       "       [  -49.54102991],\n",
       "       [ 1303.26328659],\n",
       "       [   40.60882991],\n",
       "       [ -255.85698496],\n",
       "       [   52.59381378],\n",
       "       [  -33.52478423]])"
      ]
     },
     "execution_count": 16,
     "metadata": {},
     "output_type": "execute_result"
    }
   ],
   "source": [
    "#Solve easily using numpy's linalg.solve\n",
    "topX = np.linalg.solve(A_11,topB)\n",
    "topX"
   ]
  },
  {
   "cell_type": "markdown",
   "metadata": {},
   "source": [
    "Let's check for closeness that our multiplication works as it should! (Note usage of allclose, a method which allows for rounding imprecision, as these random values are likely to be quite messy.)"
   ]
  },
  {
   "cell_type": "code",
   "execution_count": 17,
   "metadata": {},
   "outputs": [
    {
     "data": {
      "text/plain": [
       "True"
      ]
     },
     "execution_count": 17,
     "metadata": {},
     "output_type": "execute_result"
    }
   ],
   "source": [
    "np.allclose(np.matmul(A_11, topX), topB)"
   ]
  },
  {
   "cell_type": "markdown",
   "metadata": {},
   "source": [
    "So we've completely determined a large portion of the elements of $x$!\n",
    "\n",
    "Now, we have to modify the bottom entries of $b$ based on our knowledge of the first entries of $x$.\n",
    "\n",
    "That is, we can calculate the product $A_{21} \\cdot topX$ and get a $30 \\times 1$ matrix. Then, we can subtract this matrix from the bottom entries of $b$ to gain a new target vector that will allow us to solve the smaller system $A_{22} \\cdot botX = botB - (A_{21} \\cdot topX)$.\n",
    "\n",
    "If this explanation appears unclear, my advice is again to write out the system of equations line by line, and solve one equation at a time until the pattern becomes clear! It's a subtle argument, with moving constants in specific ways, but a very good exercise in visualization and intuition in linear algebra."
   ]
  },
  {
   "cell_type": "code",
   "execution_count": 18,
   "metadata": {},
   "outputs": [],
   "source": [
    "#Calculate the constants to subtract from b\n",
    "const = np.matmul(A_21, topX)\n",
    "\n",
    "#Create a new b after subtraction\n",
    "newBotB = botB - const"
   ]
  },
  {
   "cell_type": "markdown",
   "metadata": {},
   "source": [
    "Now let's solve!"
   ]
  },
  {
   "cell_type": "code",
   "execution_count": 19,
   "metadata": {},
   "outputs": [],
   "source": [
    "botX = np.linalg.solve(A_22,newBotB)"
   ]
  },
  {
   "cell_type": "markdown",
   "metadata": {},
   "source": [
    "So we have a $topX$ and a $botX$ that together describe our desired solution!\n",
    "\n",
    "Let's manually verify this solution by using numpy to solve the basic $50 \\times 50$ system as a whole."
   ]
  },
  {
   "cell_type": "code",
   "execution_count": 20,
   "metadata": {},
   "outputs": [
    {
     "data": {
      "text/plain": [
       "array([[-1740.66435266],\n",
       "       [  592.32610268],\n",
       "       [-5216.18174332],\n",
       "       [-3824.06918278],\n",
       "       [ 1505.60298939],\n",
       "       [ 2819.57967267],\n",
       "       [-4268.92853528],\n",
       "       [ 1240.80119652],\n",
       "       [-3362.97043489],\n",
       "       [  469.44799022],\n",
       "       [-6468.59186731],\n",
       "       [-4425.51547114],\n",
       "       [-2794.06021094],\n",
       "       [-5335.82211202],\n",
       "       [ -571.56782537],\n",
       "       [ 5409.41403526],\n",
       "       [-1665.22607976],\n",
       "       [-2417.18925263],\n",
       "       [-2184.04289504],\n",
       "       [-7720.00160882],\n",
       "       [  191.41518102],\n",
       "       [-8124.30272838],\n",
       "       [ 3753.49385034],\n",
       "       [ 3130.04682421],\n",
       "       [-1396.43139994],\n",
       "       [-7795.49617357],\n",
       "       [-6712.4439153 ],\n",
       "       [  675.49027382],\n",
       "       [-3386.60414616],\n",
       "       [ 4288.58699858]])"
      ]
     },
     "execution_count": 20,
     "metadata": {},
     "output_type": "execute_result"
    }
   ],
   "source": [
    "newBotB"
   ]
  },
  {
   "cell_type": "code",
   "execution_count": 21,
   "metadata": {},
   "outputs": [
    {
     "data": {
      "text/plain": [
       "True"
      ]
     },
     "execution_count": 21,
     "metadata": {},
     "output_type": "execute_result"
    }
   ],
   "source": [
    "#Constructing each block of the large 50 x 50 matrix\n",
    "A = np.zeros((50,50))\n",
    "A[0:20,0:20] = A_11\n",
    "A[0:20,20:] = A_12\n",
    "A[20:,0:20] = A_21\n",
    "A[20:,20:] = A_22\n",
    "\n",
    "#Constructing b\n",
    "B = np.zeros((50,1))\n",
    "B[0:20] = topB\n",
    "B[20:] = botB\n",
    "\n",
    "#Constructing b\n",
    "X = np.zeros((50,1))\n",
    "X[0:20] = topX\n",
    "X[20:] = botX\n",
    "\n",
    "#Verifying closeness! We need a slight margin of error, as our values are very small and will\n",
    "#sometimes be rounded to 0 as a datatype issue. This was the cause of much troubleshooting!\n",
    "np.allclose(np.matmul(A, X), B, 1)"
   ]
  },
  {
   "cell_type": "markdown",
   "metadata": {},
   "source": [
    "Fantastic! We've verified our output is very close - rounding errors will likely make an exact comparison return false, but all entries are close enough that our process is quite likely to be correct! On that happy note, we'll end this problem!\n",
    "\n",
    "***\n",
    "\n",
    "Thanks for reading this week's second problem, and as always, feel free to email me with any questions!\n",
    "\n",
    "-Charles"
   ]
  }
 ],
 "metadata": {
  "kernelspec": {
   "display_name": "Python 3",
   "language": "python",
   "name": "python3"
  },
  "language_info": {
   "codemirror_mode": {
    "name": "ipython",
    "version": 3
   },
   "file_extension": ".py",
   "mimetype": "text/x-python",
   "name": "python",
   "nbconvert_exporter": "python",
   "pygments_lexer": "ipython3",
   "version": "3.7.4"
  }
 },
 "nbformat": 4,
 "nbformat_minor": 2
}
