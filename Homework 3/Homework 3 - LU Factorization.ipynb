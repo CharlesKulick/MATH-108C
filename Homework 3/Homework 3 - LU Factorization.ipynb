{
 "cells": [
  {
   "cell_type": "markdown",
   "metadata": {},
   "source": [
    "# **Welcome! In this notebook, we'll solve Homework 3.22 together in Python.**\n",
    "\n",
    "For this problem, we need to find an $LU$ factorization. We'll assume the matrices we work with have an $LU$ factorization exist - no random matrix inputs for us in this problem! We'll stick to the example from class to be sure everything works out."
   ]
  },
  {
   "cell_type": "code",
   "execution_count": 1,
   "metadata": {},
   "outputs": [],
   "source": [
    "import numpy as np"
   ]
  },
  {
   "cell_type": "markdown",
   "metadata": {},
   "source": [
    "First, let's attempt to build a method manually to help us understand how $LU$ factorization works. Then, at the end, we'll examine how to use a premade method from the scipy library to do this efficiently in applications!\n",
    "\n",
    "Let's begin by defining the matrix we'll work with, from Example 1 in section."
   ]
  },
  {
   "cell_type": "code",
   "execution_count": 2,
   "metadata": {},
   "outputs": [],
   "source": [
    "A = np.array([[1.,2.,3.],[2.,1.,3.],[4.,-1.,0.]])"
   ]
  },
  {
   "cell_type": "markdown",
   "metadata": {},
   "source": [
    "Now, let's build an $LU$ factorization method. We'll make it a bit general, but will not use a $P$ matrix approach at the moment or check for existence.\n",
    "\n",
    "Our general approach will be to start with $U$ as a copy of $A$ and $L$ as an identity matrix.\n",
    "\n",
    "Then, an alternative way to view the steps we took in lecture are to view it as row operations in $U$, making $U$ slowly into an upper triangular matrix, and undoing those row operations in $L$, making $L$ slowly into a lower triangular matrix."
   ]
  },
  {
   "cell_type": "code",
   "execution_count": 3,
   "metadata": {},
   "outputs": [],
   "source": [
    "#We define a general LU factorization method.\n",
    "def LU(A):\n",
    "    \n",
    "    #We assume our matrix is square, and find its size.\n",
    "    size = A.shape[0]\n",
    "    \n",
    "    #U starts as a simple copy of A.\n",
    "    #We copy so as not to modify the original object A.\n",
    "    U = A.copy()\n",
    "    \n",
    "    #ID matrices are created with the np.eye(dimension) method.\n",
    "    L = np.eye(size)\n",
    "    \n",
    "    #For each entry on the diagonal:\n",
    "    for i in range(size):\n",
    "            \n",
    "        #Look at the entry on the diagonal in U.\n",
    "        #Then, divide the column below by this entry.\n",
    "        columnBelow = U[i+1:size, i] / U[i, i]\n",
    "        \n",
    "        #Row operation: subtract this column, multiplied by the i-th row of U.\n",
    "        #np.newaxis just adds blank dimensions to make the multiplication work.\n",
    "        U[i+1:size] -= columnBelow[0:size, np.newaxis] * U[i]\n",
    "        \n",
    "        #Place the column below into the L matrix, ensuring when multiplication is carried out,\n",
    "        #we return to the original values in the matrix!\n",
    "        L[i+1:, i] = columnBelow\n",
    "        \n",
    "        \n",
    "    return L, U"
   ]
  },
  {
   "cell_type": "markdown",
   "metadata": {},
   "source": [
    "This approach, and portions of the code block above, are modelled from [this page](https://johnfoster.pge.utexas.edu/numerical-methods-book/LinearAlgebra_LU.html), where the process behind this slightly different algorithmic approach is explained in more detail! For an in-depth explanation of the exact mathematics of this approach, known as Crout's algorithm, see [this paper.](http://www.it.uom.gr/teaching/linearalgebra/NumericalRecipiesInC/c2-3.pdf)\n",
    "\n",
    "Now, let's run our method and verify it works."
   ]
  },
  {
   "cell_type": "code",
   "execution_count": 4,
   "metadata": {},
   "outputs": [],
   "source": [
    "L, U = LU(A)"
   ]
  },
  {
   "cell_type": "code",
   "execution_count": 5,
   "metadata": {},
   "outputs": [
    {
     "data": {
      "text/plain": [
       "array([[1., 0., 0.],\n",
       "       [2., 1., 0.],\n",
       "       [4., 3., 1.]])"
      ]
     },
     "execution_count": 5,
     "metadata": {},
     "output_type": "execute_result"
    }
   ],
   "source": [
    "L"
   ]
  },
  {
   "cell_type": "code",
   "execution_count": 6,
   "metadata": {},
   "outputs": [
    {
     "data": {
      "text/plain": [
       "array([[ 1.,  2.,  3.],\n",
       "       [ 0., -3., -3.],\n",
       "       [ 0.,  0., -3.]])"
      ]
     },
     "execution_count": 6,
     "metadata": {},
     "output_type": "execute_result"
    }
   ],
   "source": [
    "U"
   ]
  },
  {
   "cell_type": "markdown",
   "metadata": {},
   "source": [
    "Our matrices are in the desired form! A good sign! Let's multiply them together now."
   ]
  },
  {
   "cell_type": "code",
   "execution_count": 7,
   "metadata": {},
   "outputs": [
    {
     "data": {
      "text/plain": [
       "array([[ 1.,  2.,  3.],\n",
       "       [ 2.,  1.,  3.],\n",
       "       [ 4., -1.,  0.]])"
      ]
     },
     "execution_count": 7,
     "metadata": {},
     "output_type": "execute_result"
    }
   ],
   "source": [
    "np.matmul(L,U)"
   ]
  },
  {
   "cell_type": "markdown",
   "metadata": {},
   "source": [
    "So, we've actually found an $LU$ decomposition of a permutation of our original matrix. This is subtle! On the bright side, this is enough for most of our needed applications. Modifying this algorithm to keep track of the permutations, and undo them if needed, is an exercise in storing memory of all our row computations - very feasible, but quite difficult to write clearly!\n",
    "\n",
    "So, we'll call that good for our manual approach! Whew!\n",
    "\n",
    "***\n",
    "\n",
    "Now, let's import scipy, a library with many efficient factorizations built in. This will allow us to invoke a much more professional and efficient algorithm that also returns a $P$ matrix, meaning this will work with arbitrary matrices instead of our pure $LU$ factorization above."
   ]
  },
  {
   "cell_type": "code",
   "execution_count": 8,
   "metadata": {},
   "outputs": [],
   "source": [
    "#We only need one particular method from here\n",
    "from scipy.linalg import lu"
   ]
  },
  {
   "cell_type": "markdown",
   "metadata": {},
   "source": [
    "Let's redefine $A$ here, purely for the sake of our memory!"
   ]
  },
  {
   "cell_type": "code",
   "execution_count": 9,
   "metadata": {},
   "outputs": [],
   "source": [
    "A = np.array([[1,2,3],[2,1,3],[4,-1,0]])"
   ]
  },
  {
   "cell_type": "markdown",
   "metadata": {},
   "source": [
    "Now, in one line, let's factorize."
   ]
  },
  {
   "cell_type": "code",
   "execution_count": 10,
   "metadata": {},
   "outputs": [],
   "source": [
    "P, L, U = lu(A)"
   ]
  },
  {
   "cell_type": "markdown",
   "metadata": {},
   "source": [
    "Let's look at our results! One thing to keep in mind is that in this algorithm, the factorization is written as $A = PLU$, so the $P$ matrix is not on the same side as we saw in lecture."
   ]
  },
  {
   "cell_type": "code",
   "execution_count": 11,
   "metadata": {},
   "outputs": [
    {
     "data": {
      "text/plain": [
       "array([[0., 1., 0.],\n",
       "       [0., 0., 1.],\n",
       "       [1., 0., 0.]])"
      ]
     },
     "execution_count": 11,
     "metadata": {},
     "output_type": "execute_result"
    }
   ],
   "source": [
    "P"
   ]
  },
  {
   "cell_type": "code",
   "execution_count": 12,
   "metadata": {},
   "outputs": [
    {
     "data": {
      "text/plain": [
       "array([[1.        , 0.        , 0.        ],\n",
       "       [0.25      , 1.        , 0.        ],\n",
       "       [0.5       , 0.66666667, 1.        ]])"
      ]
     },
     "execution_count": 12,
     "metadata": {},
     "output_type": "execute_result"
    }
   ],
   "source": [
    "L"
   ]
  },
  {
   "cell_type": "code",
   "execution_count": 13,
   "metadata": {},
   "outputs": [
    {
     "data": {
      "text/plain": [
       "array([[ 4.  , -1.  ,  0.  ],\n",
       "       [ 0.  ,  2.25,  3.  ],\n",
       "       [ 0.  ,  0.  ,  1.  ]])"
      ]
     },
     "execution_count": 13,
     "metadata": {},
     "output_type": "execute_result"
    }
   ],
   "source": [
    "U"
   ]
  },
  {
   "cell_type": "markdown",
   "metadata": {},
   "source": [
    "Looks good! Let's just quickly verify this multiplies to exactly what we want."
   ]
  },
  {
   "cell_type": "code",
   "execution_count": 14,
   "metadata": {},
   "outputs": [
    {
     "data": {
      "text/plain": [
       "array([[ 1.,  2.,  3.],\n",
       "       [ 2.,  1.,  3.],\n",
       "       [ 4., -1.,  0.]])"
      ]
     },
     "execution_count": 14,
     "metadata": {},
     "output_type": "execute_result"
    }
   ],
   "source": [
    "np.matmul(np.matmul(P,L),U)"
   ]
  },
  {
   "cell_type": "markdown",
   "metadata": {},
   "source": [
    "Exactly as we expected. Fantastic.\n",
    "\n",
    "***\n",
    "\n",
    "Thanks for reading this week's final problem! Email me with any questions!\n",
    "\n",
    "-Charles"
   ]
  }
 ],
 "metadata": {
  "kernelspec": {
   "display_name": "Python 3",
   "language": "python",
   "name": "python3"
  },
  "language_info": {
   "codemirror_mode": {
    "name": "ipython",
    "version": 3
   },
   "file_extension": ".py",
   "mimetype": "text/x-python",
   "name": "python",
   "nbconvert_exporter": "python",
   "pygments_lexer": "ipython3",
   "version": "3.7.4"
  }
 },
 "nbformat": 4,
 "nbformat_minor": 2
}
