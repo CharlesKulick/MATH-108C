{
 "cells": [
  {
   "cell_type": "markdown",
   "metadata": {},
   "source": [
    "# **Welcome! In this notebook, we'll solve Homework 1.9 together in Python.**\n",
    "\n",
    "First, we'll import the most common Python data science libraries, along with sklearn, which handles implementation of the KNN algorithm."
   ]
  },
  {
   "cell_type": "code",
   "execution_count": 1,
   "metadata": {},
   "outputs": [],
   "source": [
    "#For data science\n",
    "import numpy as np\n",
    "import matplotlib.pyplot as plt\n",
    "import pandas as pd\n",
    "\n",
    "#For KNN\n",
    "from sklearn.model_selection import train_test_split\n",
    "from sklearn.neighbors import KNeighborsClassifier\n",
    "from sklearn.metrics import classification_report\n",
    "\n",
    "#For utility\n",
    "import random\n",
    "import math"
   ]
  },
  {
   "cell_type": "markdown",
   "metadata": {},
   "source": [
    "We need to generate two sets of points in two different circles for this problem. To do so, we need a way to generate data in a circle.\n",
    "\n",
    "Below, we define a method to do so in a relatively uniform way. The general idea is to change the problem into polar coordinates, so that we can pick an angle and radius, and yield a point in the circle randomly. \n",
    "\n",
    "(The issue of uniformity of the data is solved by taking the square root of the random scaling of the radius - this is mostly an unimportant technical point, and not worth focusing on here.)"
   ]
  },
  {
   "cell_type": "code",
   "execution_count": 2,
   "metadata": {},
   "outputs": [],
   "source": [
    "def genPointsInCircle(radius, centerX, centerY, classNum, numPoints):\n",
    "    \n",
    "    #We want to return a list of the points we generate.\n",
    "    points = []\n",
    "\n",
    "    #We generate as many points as needed by the below method.\n",
    "    for _ in range(numPoints):\n",
    "        \n",
    "        #Pick a random angle in radians.\n",
    "        theta = random.uniform(0, 2* math.pi)\n",
    "        \n",
    "        #Pick a random scaling factor of the radius, between 0 and 1.\n",
    "        r = radius * math.sqrt(random.uniform(0, 1))\n",
    "        \n",
    "        #Calculate x and y by converting polar coordinates to Euclidean.\n",
    "        x = round(r * math.cos(theta) + centerX, 5)\n",
    "        y = round(r * math.sin(theta) + centerY, 5)\n",
    "\n",
    "        #Store our point in our list.\n",
    "        points.append([x,y, classNum])\n",
    "\n",
    "\n",
    "    return points"
   ]
  },
  {
   "cell_type": "markdown",
   "metadata": {},
   "source": [
    "Now, we can generate our data in our 2 desired classes! We choose to generate 100 points from each class for this example."
   ]
  },
  {
   "cell_type": "code",
   "execution_count": 3,
   "metadata": {},
   "outputs": [],
   "source": [
    "#Generate 100 class 1 points in the circle centered at (3,4) with r = 2\n",
    "class1Points = genPointsInCircle(2, 3, 4, 1, 100)\n",
    "\n",
    "#Generate 100 class 2 points in the circle centered at (0,0) with r = 3/2\n",
    "class2Points = genPointsInCircle(1.5, 0, 0, 2, 100)\n",
    "\n",
    "#Combine these lists in a DataFrame.\n",
    "data = pd.DataFrame(class1Points + class2Points)"
   ]
  },
  {
   "cell_type": "markdown",
   "metadata": {},
   "source": [
    "As a best practice, let's look at our data we've constructed."
   ]
  },
  {
   "cell_type": "code",
   "execution_count": 4,
   "metadata": {},
   "outputs": [
    {
     "data": {
      "text/html": [
       "<div>\n",
       "<style scoped>\n",
       "    .dataframe tbody tr th:only-of-type {\n",
       "        vertical-align: middle;\n",
       "    }\n",
       "\n",
       "    .dataframe tbody tr th {\n",
       "        vertical-align: top;\n",
       "    }\n",
       "\n",
       "    .dataframe thead th {\n",
       "        text-align: right;\n",
       "    }\n",
       "</style>\n",
       "<table border=\"1\" class=\"dataframe\">\n",
       "  <thead>\n",
       "    <tr style=\"text-align: right;\">\n",
       "      <th></th>\n",
       "      <th>0</th>\n",
       "      <th>1</th>\n",
       "      <th>2</th>\n",
       "    </tr>\n",
       "  </thead>\n",
       "  <tbody>\n",
       "    <tr>\n",
       "      <td>0</td>\n",
       "      <td>3.79406</td>\n",
       "      <td>3.27802</td>\n",
       "      <td>1</td>\n",
       "    </tr>\n",
       "    <tr>\n",
       "      <td>1</td>\n",
       "      <td>4.18463</td>\n",
       "      <td>3.18786</td>\n",
       "      <td>1</td>\n",
       "    </tr>\n",
       "    <tr>\n",
       "      <td>2</td>\n",
       "      <td>2.58692</td>\n",
       "      <td>2.85598</td>\n",
       "      <td>1</td>\n",
       "    </tr>\n",
       "    <tr>\n",
       "      <td>3</td>\n",
       "      <td>2.77199</td>\n",
       "      <td>3.77162</td>\n",
       "      <td>1</td>\n",
       "    </tr>\n",
       "    <tr>\n",
       "      <td>4</td>\n",
       "      <td>3.98011</td>\n",
       "      <td>3.85748</td>\n",
       "      <td>1</td>\n",
       "    </tr>\n",
       "    <tr>\n",
       "      <td>...</td>\n",
       "      <td>...</td>\n",
       "      <td>...</td>\n",
       "      <td>...</td>\n",
       "    </tr>\n",
       "    <tr>\n",
       "      <td>195</td>\n",
       "      <td>-0.43452</td>\n",
       "      <td>1.13427</td>\n",
       "      <td>2</td>\n",
       "    </tr>\n",
       "    <tr>\n",
       "      <td>196</td>\n",
       "      <td>-0.34228</td>\n",
       "      <td>1.35522</td>\n",
       "      <td>2</td>\n",
       "    </tr>\n",
       "    <tr>\n",
       "      <td>197</td>\n",
       "      <td>1.32811</td>\n",
       "      <td>0.38623</td>\n",
       "      <td>2</td>\n",
       "    </tr>\n",
       "    <tr>\n",
       "      <td>198</td>\n",
       "      <td>-0.23903</td>\n",
       "      <td>-0.60566</td>\n",
       "      <td>2</td>\n",
       "    </tr>\n",
       "    <tr>\n",
       "      <td>199</td>\n",
       "      <td>0.88556</td>\n",
       "      <td>0.17899</td>\n",
       "      <td>2</td>\n",
       "    </tr>\n",
       "  </tbody>\n",
       "</table>\n",
       "<p>200 rows × 3 columns</p>\n",
       "</div>"
      ],
      "text/plain": [
       "           0        1  2\n",
       "0    3.79406  3.27802  1\n",
       "1    4.18463  3.18786  1\n",
       "2    2.58692  2.85598  1\n",
       "3    2.77199  3.77162  1\n",
       "4    3.98011  3.85748  1\n",
       "..       ...      ... ..\n",
       "195 -0.43452  1.13427  2\n",
       "196 -0.34228  1.35522  2\n",
       "197  1.32811  0.38623  2\n",
       "198 -0.23903 -0.60566  2\n",
       "199  0.88556  0.17899  2\n",
       "\n",
       "[200 rows x 3 columns]"
      ]
     },
     "execution_count": 4,
     "metadata": {},
     "output_type": "execute_result"
    }
   ],
   "source": [
    "data"
   ]
  },
  {
   "cell_type": "markdown",
   "metadata": {},
   "source": [
    "Looks good! We have to remember the third column is the class label - this will be important for testing a KNN algorithm on the data."
   ]
  },
  {
   "cell_type": "markdown",
   "metadata": {},
   "source": [
    "Now, we want to split our data into a train and test set, and separate the data into the points and the labels. Most of the hard work is accomplished by sklearn, which will split our data randomly when we provide the needed parameters."
   ]
  },
  {
   "cell_type": "code",
   "execution_count": 5,
   "metadata": {},
   "outputs": [],
   "source": [
    "#Create a dataframe of only the points.\n",
    "X = data.drop([2], axis=1)\n",
    "\n",
    "#Create a dataframe of only the associated labels.\n",
    "y = data[2]\n",
    "\n",
    "#Call the sklean train_test_split method to break 30% of our data\n",
    "#into a test set.\n",
    "X_train, X_test, y_train, y_test = train_test_split(X, y, test_size=0.30)"
   ]
  },
  {
   "cell_type": "markdown",
   "metadata": {},
   "source": [
    "Let's see what this method did by plotting our points.\n",
    "\n",
    "Blue points will be from Class 2, orange points from Class 1, and black points are points in the test set our classifier will be trying to label."
   ]
  },
  {
   "cell_type": "code",
   "execution_count": 6,
   "metadata": {},
   "outputs": [
    {
     "data": {
      "text/plain": [
       "Text(0, 0.5, 'y')"
      ]
     },
     "execution_count": 6,
     "metadata": {},
     "output_type": "execute_result"
    },
    {
     "data": {
      "image/png": "[encoded data removed]",
      "text/plain": [
       "<Figure size 432x288 with 1 Axes>"
      ]
     },
     "metadata": {
      "needs_background": "light"
     },
     "output_type": "display_data"
    }
   ],
   "source": [
    "fig, ax = plt.subplots()\n",
    "colors = {1:'orange', 2:'blue'}\n",
    "ax.scatter(X_train[0], X_train[1], c = y_train.map(colors))\n",
    "ax.scatter(X_test[0], X_test[1], c = 'black')\n",
    "ax.set_aspect('equal')\n",
    "ax.set_xlabel('x')\n",
    "ax.set_ylabel('y')"
   ]
  },
  {
   "cell_type": "markdown",
   "metadata": {},
   "source": [
    "Now we can create and train a classifier! This is remarkably easy with sklearn.\n",
    "\n",
    "We choose to examine the 3 nearest neighbors for this computation."
   ]
  },
  {
   "cell_type": "code",
   "execution_count": 7,
   "metadata": {},
   "outputs": [],
   "source": [
    "#Create a KNN classifier from sklearn.\n",
    "KNNClassifier = KNeighborsClassifier(n_neighbors=3)\n",
    "\n",
    "#Train the classifier on the training set.\n",
    "KNNClassifier.fit(X_train, y_train)\n",
    "\n",
    "#Get predictions from the classifier for the test set.\n",
    "y_pred = KNNClassifier.predict(X_test)"
   ]
  },
  {
   "cell_type": "markdown",
   "metadata": {},
   "source": [
    "Now, we want to compare the performance of our algorithm - how did it do?\n",
    "\n",
    "We use one more method from sklearn to accomplish this."
   ]
  },
  {
   "cell_type": "code",
   "execution_count": 8,
   "metadata": {},
   "outputs": [
    {
     "name": "stdout",
     "output_type": "stream",
     "text": [
      "              precision    recall  f1-score   support\n",
      "\n",
      "           1       1.00      1.00      1.00        32\n",
      "           2       1.00      1.00      1.00        28\n",
      "\n",
      "    accuracy                           1.00        60\n",
      "   macro avg       1.00      1.00      1.00        60\n",
      "weighted avg       1.00      1.00      1.00        60\n",
      "\n"
     ]
    }
   ],
   "source": [
    "#Get a classification report to see the results.\n",
    "print(classification_report(y_test, y_pred))"
   ]
  },
  {
   "cell_type": "markdown",
   "metadata": {},
   "source": [
    "Wow! Even with $K = 3$, our classifier was perfect. This dataset was certainly conducive to this type of classification, so perhaps this isn't too much of a surprise. Either way, we can call that success for Problem 9!\n",
    "\n",
    "***\n",
    "\n",
    "Thanks for reading, and feel free to email me with any questions!\n",
    "\n",
    "-Charles"
   ]
  }
 ],
 "metadata": {
  "kernelspec": {
   "display_name": "Python 3",
   "language": "python",
   "name": "python3"
  },
  "language_info": {
   "codemirror_mode": {
    "name": "ipython",
    "version": 3
   },
   "file_extension": ".py",
   "mimetype": "text/x-python",
   "name": "python",
   "nbconvert_exporter": "python",
   "pygments_lexer": "ipython3",
   "version": "3.7.4"
  }
 },
 "nbformat": 4,
 "nbformat_minor": 2
}
