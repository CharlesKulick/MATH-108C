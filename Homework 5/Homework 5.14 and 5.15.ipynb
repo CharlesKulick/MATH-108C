{
 "cells": [
  {
   "cell_type": "markdown",
   "metadata": {},
   "source": [
    "# **Welcome! In this notebook, we'll solve Homework 5.14 and 5.15 together in Python.**\n",
    "\n",
    "For this problem, we only need numpy."
   ]
  },
  {
   "cell_type": "code",
   "execution_count": 1,
   "metadata": {},
   "outputs": [],
   "source": [
    "#Just numpy\n",
    "import numpy as np"
   ]
  },
  {
   "attachments": {
    "graph4.png": {
     "image/png": "[encoded data removed]"
    }
   },
   "cell_type": "markdown",
   "metadata": {},
   "source": [
    "We need to calculate many things about graphs.\n",
    "\n",
    "Having to enter graphs into programs manually in anything but the most convenient way can quickly become a hassle. In this problem, we are able to assume we're given the adjacency matrix and the degree matrix - but as we're likely intending to run this program on a few different graphs, it will quickly pay off to make a method for the program to generate those matrices for us after we enter the bare minimum of data manually!\n",
    "\n",
    "Let's decide on a very simple way to describe a graph - a list, where each index is a node and contains a list with the identifiers of all nodes that it is connected to.\n",
    "\n",
    "So to use our example from Quiz 5:\n",
    "\n",
    "![graph4.png](attachment:graph4.png)\n",
    "\n",
    "We would enter this as $[[2,5],[1,3,5],[2,4],[3,5,6],[1,2,4],[4]]$."
   ]
  },
  {
   "cell_type": "code",
   "execution_count": 2,
   "metadata": {},
   "outputs": [],
   "source": [
    "rawGraphData = [[2,5],[1,3,5],[2,4],[3,5,6],[1,2,4],[4]]"
   ]
  },
  {
   "cell_type": "markdown",
   "metadata": {},
   "source": [
    "Now, let's write a method to generate the adjacency matrix."
   ]
  },
  {
   "cell_type": "code",
   "execution_count": 3,
   "metadata": {},
   "outputs": [],
   "source": [
    "def makeAdjMatrix(rawData):\n",
    "    \n",
    "    adj = []\n",
    "    \n",
    "    #Generate the adjacency matrix row by row.\n",
    "    #For each vertex:\n",
    "    for i in range(1,len(rawData)+1):\n",
    "        \n",
    "        #Build each row in parts.\n",
    "        row = []\n",
    "        \n",
    "        #For each vertex:\n",
    "        for j in range(1,len(rawData)+1):\n",
    "            \n",
    "            #Check if our i vertex has an edge to our j matrix.\n",
    "            #We subtract 1 as our vertices aren't zero-indexed.\n",
    "            if j in rawData[i-1]:\n",
    "                \n",
    "                #They have an edge!\n",
    "                row.append(1)\n",
    "                \n",
    "            else:\n",
    "                \n",
    "                #They don't have an edge.\n",
    "                row.append(0)\n",
    "                \n",
    "        adj.append(row)\n",
    "        \n",
    "    return np.matrix(adj)       "
   ]
  },
  {
   "cell_type": "markdown",
   "metadata": {},
   "source": [
    "Let's test this method on our Quiz 5 graph!"
   ]
  },
  {
   "cell_type": "code",
   "execution_count": 4,
   "metadata": {},
   "outputs": [
    {
     "name": "stdout",
     "output_type": "stream",
     "text": [
      "[[0 1 0 0 1 0]\n",
      " [1 0 1 0 1 0]\n",
      " [0 1 0 1 0 0]\n",
      " [0 0 1 0 1 1]\n",
      " [1 1 0 1 0 0]\n",
      " [0 0 0 1 0 0]]\n"
     ]
    }
   ],
   "source": [
    "adjMatrix = makeAdjMatrix(rawGraphData)\n",
    "\n",
    "print(adjMatrix)"
   ]
  },
  {
   "cell_type": "markdown",
   "metadata": {},
   "source": [
    "This looks good! Time to focus on making a degree matrix. We'll write and test this similarly."
   ]
  },
  {
   "cell_type": "code",
   "execution_count": 5,
   "metadata": {},
   "outputs": [],
   "source": [
    "def makeDegMatrix(adj):\n",
    "    \n",
    "    #We want to sum the entries in each column to find the degree,\n",
    "    #and then write the sum on the diagonal to make a degree matrix.\n",
    "    \n",
    "    #Keep track of each sum.    \n",
    "    totals = []\n",
    "    \n",
    "    #For each column of the adjacency matrix:\n",
    "    for i in range(len(adj)):\n",
    "        \n",
    "        total = 0\n",
    "        \n",
    "        #For each column entry:\n",
    "        for j in range(len(adj)):\n",
    "            \n",
    "            #Add the entry to the sum.\n",
    "            total += adj[i,j]\n",
    "            \n",
    "        totals.append(total)\n",
    "    \n",
    "    #Now that we have the degrees, turn it into a diagonal matrix.\n",
    "    deg = np.diag(totals)\n",
    "    \n",
    "    return deg"
   ]
  },
  {
   "cell_type": "markdown",
   "metadata": {},
   "source": [
    "Time to test our code!"
   ]
  },
  {
   "cell_type": "code",
   "execution_count": 6,
   "metadata": {},
   "outputs": [
    {
     "data": {
      "text/plain": [
       "array([[2, 0, 0, 0, 0, 0],\n",
       "       [0, 3, 0, 0, 0, 0],\n",
       "       [0, 0, 2, 0, 0, 0],\n",
       "       [0, 0, 0, 3, 0, 0],\n",
       "       [0, 0, 0, 0, 3, 0],\n",
       "       [0, 0, 0, 0, 0, 1]])"
      ]
     },
     "execution_count": 6,
     "metadata": {},
     "output_type": "execute_result"
    }
   ],
   "source": [
    "degMatrix = makeDegMatrix(adjMatrix)\n",
    "\n",
    "degMatrix"
   ]
  },
  {
   "cell_type": "markdown",
   "metadata": {},
   "source": [
    "Looks good once again! Now let's tie this together into our main method, which will take our raw data and compute the clustering we desire."
   ]
  },
  {
   "cell_type": "code",
   "execution_count": 7,
   "metadata": {},
   "outputs": [],
   "source": [
    "def cluster(rawData):\n",
    "    \n",
    "    #Make adjacency and degree matrices.\n",
    "    adj = makeAdjMatrix(rawData)    \n",
    "    deg = makeDegMatrix(adj)\n",
    "    \n",
    "    #Compute the laplacian.\n",
    "    laplacian = deg - adj\n",
    "\n",
    "    #Compute the eigenvalues and corresponding eigenvectors.\n",
    "    eigvals, eigvects = np.linalg.eig(laplacian)\n",
    "\n",
    "    #Sort and then take the second smallest computed eigenvalue.\n",
    "    secondEig = np.sort(eigvals.copy())[1]\n",
    "\n",
    "    #Find the pre-sorted index of the second smallest eigenvalue.\n",
    "    index = np.where(eigvals == secondEig)\n",
    "\n",
    "    #Take the corresponding eigenvector.\n",
    "    column = eigvects[:,index[0]]\n",
    "\n",
    "    #Positive and negative values will be separated.\n",
    "    pos = []\n",
    "    neg = []\n",
    "\n",
    "    for i in range(len(rawData)):\n",
    "        \n",
    "        #Test if negative and sort correspondingly.\n",
    "        if column[i] < 0:\n",
    "            neg.append(i + 1)\n",
    "        else:\n",
    "            pos.append(i + 1)\n",
    "    \n",
    "    return (pos,neg)"
   ]
  },
  {
   "attachments": {},
   "cell_type": "markdown",
   "metadata": {},
   "source": [
    "Now we put our method to work to calculate our Quiz 5 problem!"
   ]
  },
  {
   "cell_type": "code",
   "execution_count": 8,
   "metadata": {},
   "outputs": [
    {
     "name": "stdout",
     "output_type": "stream",
     "text": [
      "([4, 6], [1, 2, 3, 5])\n"
     ]
    }
   ],
   "source": [
    "print(cluster(rawGraphData))"
   ]
  },
  {
   "attachments": {
    "g2.PNG": {
     "image/png": "[encoded data removed]"
    }
   },
   "cell_type": "markdown",
   "metadata": {},
   "source": [
    "Now let's apply this to the graph we're given in the homework, shown below!\n",
    "\n",
    "All we have to do is manually write out our raw data as a list, and then plug this into our method.\n",
    "\n",
    "![g2.PNG](attachment:g2.PNG)"
   ]
  },
  {
   "cell_type": "code",
   "execution_count": 9,
   "metadata": {},
   "outputs": [
    {
     "name": "stdout",
     "output_type": "stream",
     "text": [
      "([1, 2, 3, 4, 7, 8, 9, 10], [5, 6, 11])\n"
     ]
    }
   ],
   "source": [
    "rawGraphData = [[3,4],[3,8],[1,2,4,8,10],[1,3,5,7,9],[4,11],[11],[4,9],[2,3],[4,7],[3],[5,6]]\n",
    "\n",
    "print(cluster(rawGraphData))"
   ]
  },
  {
   "cell_type": "markdown",
   "metadata": {},
   "source": [
    "So we conclude that $[5,6,11]$ is one cluster, and the remaining vertices are the second cluster!\n",
    "\n",
    "***\n",
    "\n",
    "Thanks for reading this week's problem, and as always, feel free to email me with any questions!\n",
    "\n",
    "-Charles"
   ]
  }
 ],
 "metadata": {
  "kernelspec": {
   "display_name": "Python 3",
   "language": "python",
   "name": "python3"
  },
  "language_info": {
   "codemirror_mode": {
    "name": "ipython",
    "version": 3
   },
   "file_extension": ".py",
   "mimetype": "text/x-python",
   "name": "python",
   "nbconvert_exporter": "python",
   "pygments_lexer": "ipython3",
   "version": "3.7.4"
  }
 },
 "nbformat": 4,
 "nbformat_minor": 2
}
