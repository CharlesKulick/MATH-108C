{
 "cells": [
  {
   "cell_type": "markdown",
   "metadata": {},
   "source": [
    "# **Welcome! In this notebook, we'll solve Homework 4.16 together in Python.**\n",
    "\n",
    "For this problem, we need to import many libraries - let's start there, and then dive into the math!"
   ]
  },
  {
   "cell_type": "code",
   "execution_count": 1,
   "metadata": {},
   "outputs": [],
   "source": [
    "#Numpy, as always!\n",
    "import numpy as np\n",
    "\n",
    "#Matplotlib for plotting graphs, and line objects for visualization\n",
    "import matplotlib.pyplot as plt\n",
    "from matplotlib.lines import Line2D      \n",
    "\n",
    "#Utility libraries\n",
    "import random\n",
    "import math"
   ]
  },
  {
   "cell_type": "markdown",
   "metadata": {},
   "source": [
    "Let's begin by deciding what kind of figures we will rotate and reflect. For ease of visualization, let's start with four-sided figures! We'll keep track of these figures by storing the coordinates of each vertex in memory."
   ]
  },
  {
   "cell_type": "code",
   "execution_count": 2,
   "metadata": {},
   "outputs": [],
   "source": [
    "#Making data structures to store our points.\n",
    "points = []\n",
    "\n",
    "#For convenience, we also need a list of the X coordinates and Y coordinates.\n",
    "#This makes graphing the figures much easier.\n",
    "X = []\n",
    "Y = []\n",
    "\n",
    "\n",
    "#Create 4 points:\n",
    "for _ in range(4):\n",
    "\n",
    "        #Returns a random integer from -5 to 5, inclusive on both ends\n",
    "        x = random.randint(-5,5)\n",
    "        y = random.randint(-5,5)\n",
    "        \n",
    "        #Create each point as a matrix.\n",
    "        points.append(np.matrix([[x],[y]]))\n",
    "    \n",
    "    \n",
    "#When we graph, we'll draw lines between each consecutive pair of points.    \n",
    "#So that our figure is closed, we add the first point to the end of this list as well!\n",
    "points.append(points[0])\n",
    "        \n",
    "\n",
    "#Finally, for convenience, we also fill a list of only X coordinates and only Y coordinates\n",
    "for i in range(len(points)):\n",
    "    \n",
    "    X.append(points[i][0,0])\n",
    "    Y.append(points[i][1,0])"
   ]
  },
  {
   "cell_type": "markdown",
   "metadata": {},
   "source": [
    "Great! We should have our points. Let's first graph our random figure, and gain some familiarity with our graphing methods."
   ]
  },
  {
   "cell_type": "code",
   "execution_count": 3,
   "metadata": {
    "scrolled": true
   },
   "outputs": [
    {
     "data": {
      "image/png": "[encoded data removed]",
      "text/plain": [
       "<Figure size 432x288 with 1 Axes>"
      ]
     },
     "metadata": {
      "needs_background": "light"
     },
     "output_type": "display_data"
    }
   ],
   "source": [
    "#First, we make a figure.\n",
    "fig = plt.figure()\n",
    "\n",
    "#Add a subplot, to which we add objects.\n",
    "ax = fig.add_subplot(111)\n",
    "\n",
    "#Create a line - here we must pass X and Y coordinates as separate lists!\n",
    "line = Line2D(X, Y)\n",
    "ax.add_line(line)\n",
    "\n",
    "#Add the origin, as our transformations are relative to it.\n",
    "plt.scatter(0, 0, color=\"red\", s=50)\n",
    "\n",
    "#Set bounds for rendering.\n",
    "ax.set_xlim(-6, 6)\n",
    "ax.set_ylim(-6, 6)\n",
    "\n",
    "#Show this plot!\n",
    "plt.show()"
   ]
  },
  {
   "cell_type": "markdown",
   "metadata": {},
   "source": [
    "In the above figure, the origin is the large red point, and the figure is drawn with lines between our four random points in the plane. It looks just like we hoped! \n",
    "\n",
    "(If you run this code independently, it's fun to see what random figures Python will make; some are quite geometrically strange!)\n",
    "\n",
    "***\n",
    "\n",
    "Let's now make a method that will rotate our figure! Our idea is to use a rotation matrix to rotate each of our vertices in the points list, and then simply draw the lines between those new rotated vertices."
   ]
  },
  {
   "cell_type": "code",
   "execution_count": 4,
   "metadata": {},
   "outputs": [],
   "source": [
    "def rotatePoints(points, theta):\n",
    "    \n",
    "    newPoints = []\n",
    "\n",
    "    #Define a rotation matrix from our definition.\n",
    "    rotationMatrix = np.matrix([[math.cos(theta),-1 * math.sin(theta)], [math.sin(theta),math.cos(theta)]])  \n",
    "    \n",
    "    #Multiply each point by this matrix to rotate.\n",
    "    for p in range(len(points)):\n",
    "    \n",
    "        #Add to newPoints.\n",
    "        newPoints.append(np.matmul(rotationMatrix, points[p]))\n",
    "        \n",
    "    \n",
    "    #Return our new points.\n",
    "    return newPoints"
   ]
  },
  {
   "cell_type": "markdown",
   "metadata": {},
   "source": [
    "We might as well try this out! Let's rotate by an even $\\frac{\\pi}{2}$ to start."
   ]
  },
  {
   "cell_type": "code",
   "execution_count": 5,
   "metadata": {},
   "outputs": [
    {
     "data": {
      "image/png": "[encoded data removed]",
      "text/plain": [
       "<Figure size 432x288 with 1 Axes>"
      ]
     },
     "metadata": {
      "needs_background": "light"
     },
     "output_type": "display_data"
    }
   ],
   "source": [
    "#Call our method!\n",
    "newPoints = rotatePoints(points, math.pi / 2.0)\n",
    "\n",
    "#We need to deconstruct into X and Y coordinates again.\n",
    "newX = []\n",
    "newY = []\n",
    "\n",
    "for i in range(len(points)):\n",
    "    \n",
    "    newX.append(newPoints[i][0,0])\n",
    "    newY.append(newPoints[i][1,0])\n",
    "    \n",
    "    \n",
    "#Now, let's plot!\n",
    "#This is mostly the same as above.\n",
    "fig = plt.figure()\n",
    "ax = fig.add_subplot(111)\n",
    "\n",
    "#Plot the old figure in blue.\n",
    "line = Line2D(X, Y)\n",
    "ax.add_line(line)\n",
    "\n",
    "#Plot the new figure in orange.\n",
    "newLine = Line2D(newX, newY,color=\"orange\")\n",
    "ax.add_line(newLine)\n",
    "\n",
    "plt.scatter(0, 0, color=\"red\", s=50)\n",
    "\n",
    "ax.set_xlim(-6, 6)\n",
    "ax.set_ylim(-6, 6)\n",
    "\n",
    "plt.show()"
   ]
  },
  {
   "cell_type": "markdown",
   "metadata": {},
   "source": [
    "In the above plot, our old figure is blue while our rotated figure is orange. A perfect piroutte of $\\frac{\\pi}{2}$ radians about the origin!\n",
    "\n",
    "***\n",
    "\n",
    "Now, let's carry these same ideas into building a method to reflect across a line. We'll use a reflection matrix to accomplish this!"
   ]
  },
  {
   "cell_type": "code",
   "execution_count": 6,
   "metadata": {},
   "outputs": [],
   "source": [
    "def reflectPoints(points, theta):\n",
    "    \n",
    "    newPoints = []\n",
    "\n",
    "    #Define a reflection matrix from our definition.\n",
    "    reflectionMatrix = np.matrix([[math.cos(theta),math.sin(theta)], [math.sin(theta),-1*math.cos(theta)]]) \n",
    "    \n",
    "    #Multiply each point by this matrix to rotate.\n",
    "    for p in range(len(points)):\n",
    "    \n",
    "        #Add to newPoints.\n",
    "        newPoints.append(np.matmul(reflectionMatrix, points[p]))\n",
    "        \n",
    "    \n",
    "    #Return our new points.\n",
    "    return newPoints"
   ]
  },
  {
   "cell_type": "markdown",
   "metadata": {},
   "source": [
    "In much the same way, we'll pick some nice theta value, and render our image to see what our code is doing!"
   ]
  },
  {
   "cell_type": "code",
   "execution_count": 7,
   "metadata": {},
   "outputs": [
    {
     "data": {
      "image/png": "[encoded data removed]",
      "text/plain": [
       "<Figure size 432x288 with 1 Axes>"
      ]
     },
     "metadata": {
      "needs_background": "light"
     },
     "output_type": "display_data"
    }
   ],
   "source": [
    "#Pick a theta.\n",
    "theta = math.pi / 3.0\n",
    "\n",
    "#Call our method!\n",
    "newPoints = reflectPoints(points, theta)\n",
    "\n",
    "#We need to deconstruct into X and Y coordinates.\n",
    "newX = []\n",
    "newY = []\n",
    "\n",
    "for i in range(len(points)):\n",
    "    \n",
    "    newX.append(newPoints[i][0,0])\n",
    "    newY.append(newPoints[i][1,0])\n",
    "    \n",
    "    \n",
    "#Now, let's plot one more time!\n",
    "fig = plt.figure()\n",
    "ax = fig.add_subplot(111)\n",
    "\n",
    "#Plot the old figure in blue.\n",
    "line = Line2D(X, Y)\n",
    "ax.add_line(line)\n",
    "\n",
    "#Plot the new figure in orange.\n",
    "newLine = Line2D(newX, newY,color=\"orange\")\n",
    "ax.add_line(newLine)\n",
    "\n",
    "#Add one more line - the line we reflected over!\n",
    "refLine = Line2D([0,5000*math.cos(theta),-5000*math.cos(theta)], [0,5000*math.sin(theta),-5000*math.sin(theta)],color=\"black\")\n",
    "ax.add_line(refLine)\n",
    "\n",
    "plt.scatter(0, 0, color=\"red\", s=50)\n",
    "\n",
    "ax.set_xlim(-6, 6)\n",
    "ax.set_ylim(-6, 6)\n",
    "\n",
    "plt.show()"
   ]
  },
  {
   "cell_type": "markdown",
   "metadata": {},
   "source": [
    "In the figure above, our old figure is blue, our reflected figure is orange, and our line of reflection is black!\n",
    "\n",
    "***\n",
    "\n",
    "This formally concludes this problem, as we have all of the pieces we need. However, this is fun! So let's celebrate by doing some crazy compositions of reflections and rotations on a more exciting figure! How about $8$ sides?"
   ]
  },
  {
   "cell_type": "code",
   "execution_count": 8,
   "metadata": {},
   "outputs": [],
   "source": [
    "#Store our points\n",
    "points = []\n",
    "X = []\n",
    "Y = []\n",
    "\n",
    "#Create 8 points:\n",
    "for _ in range(8):\n",
    "\n",
    "        #Returns a random integer from -5 to 5, inclusive on both ends\n",
    "        x = random.randint(-5,5)\n",
    "        y = random.randint(-5,5)\n",
    "        \n",
    "        #Create each point as a matrix.\n",
    "        points.append(np.matrix([[x],[y]]))\n",
    "    \n",
    "    \n",
    "#Extra point for graphing closed figure\n",
    "points.append(points[0])\n",
    "\n",
    "#Convenient X and Y lists\n",
    "for i in range(len(points)):\n",
    "    \n",
    "    X.append(points[i][0,0])\n",
    "    Y.append(points[i][1,0])"
   ]
  },
  {
   "cell_type": "markdown",
   "metadata": {},
   "source": [
    "Just because we can, we'll reflect, then rotate, then reflect, then rotate, then reflect, by some of my favorite numbers!"
   ]
  },
  {
   "cell_type": "code",
   "execution_count": 9,
   "metadata": {},
   "outputs": [
    {
     "data": {
      "image/png": "[encoded data removed]",
      "text/plain": [
       "<Figure size 432x288 with 1 Axes>"
      ]
     },
     "metadata": {
      "needs_background": "light"
     },
     "output_type": "display_data"
    }
   ],
   "source": [
    "#Call our methods!\n",
    "newPoints = reflectPoints(rotatePoints(reflectPoints(rotatePoints(reflectPoints(points, math.pi / 1.5), math.pi / 4.0), 7), 42), 100)\n",
    "\n",
    "#We need to deconstruct into X and Y coordinates one more time.\n",
    "newX = []\n",
    "newY = []\n",
    "\n",
    "for i in range(len(points)):\n",
    "    \n",
    "    newX.append(newPoints[i][0,0])\n",
    "    newY.append(newPoints[i][1,0])\n",
    "    \n",
    "    \n",
    "#Let's plot this!\n",
    "fig = plt.figure()\n",
    "ax = fig.add_subplot(111)\n",
    "\n",
    "#Plot the old figure in blue.\n",
    "line = Line2D(X, Y)\n",
    "ax.add_line(line)\n",
    "\n",
    "#Plot the new figure in orange.\n",
    "newLine = Line2D(newX, newY,color=\"orange\")\n",
    "ax.add_line(newLine)\n",
    "\n",
    "plt.scatter(0, 0, color=\"red\", s=50)\n",
    "\n",
    "ax.set_xlim(-6, 6)\n",
    "ax.set_ylim(-6, 6)\n",
    "\n",
    "plt.show()"
   ]
  },
  {
   "cell_type": "markdown",
   "metadata": {},
   "source": [
    "Depending on the random figure, this can look great, or a bit messy!\n",
    "\n",
    "***\n",
    "\n",
    "Thanks for reading this week's problem, and as always, feel free to email me with any questions!\n",
    "\n",
    "-Charles"
   ]
  }
 ],
 "metadata": {
  "kernelspec": {
   "display_name": "Python 3",
   "language": "python",
   "name": "python3"
  },
  "language_info": {
   "codemirror_mode": {
    "name": "ipython",
    "version": 3
   },
   "file_extension": ".py",
   "mimetype": "text/x-python",
   "name": "python",
   "nbconvert_exporter": "python",
   "pygments_lexer": "ipython3",
   "version": "3.7.4"
  }
 },
 "nbformat": 4,
 "nbformat_minor": 2
}
